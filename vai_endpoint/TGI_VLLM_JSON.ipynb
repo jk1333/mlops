{
 "cells": [
  {
   "cell_type": "code",
   "execution_count": null,
   "id": "79bce752-40b3-4d25-964a-aa952aa5d112",
   "metadata": {
    "tags": []
   },
   "outputs": [],
   "source": [
    "from huggingface_hub import snapshot_download\n",
    "import os\n",
    "hf_token = \"----\"\n",
    "hf_repo_id = \"meta-llama/Llama-3.1-8B-Instruct\"\n",
    "BASE_ARTIFACT_URI = \"gs://----\"\n",
    "os.system(f\"rm -rf /tmp/model\")\n",
    "print(\"Start downloading\")\n",
    "snapshot_download(repo_id=hf_repo_id, token=hf_token, local_dir=f\"/tmp/model\")\n",
    "print(\"Uploading\")\n",
    "os.system(f\"gcloud storage cp /tmp/model/*.* {BASE_ARTIFACT_URI}/{hf_repo_id}\")\n",
    "print(\"Done\")"
   ]
  },
  {
   "cell_type": "code",
   "execution_count": null,
   "id": "c640104d-8ea0-48d4-b6ce-7a792996aa51",
   "metadata": {},
   "outputs": [],
   "source": [
    "!docker rm -vf $(docker ps -aq)\n",
    "!docker rmi -f $(docker images -aq)"
   ]
  },
  {
   "cell_type": "code",
   "execution_count": null,
   "id": "b4ab33c0-06f1-4f54-8683-466da9c0ba3a",
   "metadata": {
    "tags": []
   },
   "outputs": [],
   "source": [
    "import os\n",
    "import logging\n",
    "logging.basicConfig(level=logging.INFO)\n",
    "PROJECT_NUMBER = \"----\"\n",
    "PROJECT_ID = \"----\"\n",
    "MODEL_PATH = \"gs://----/meta-llama/Llama-3.1-8B-Instruct\"\n",
    "VPC_NETWORK = \"----\" #vpc network name to peering\n",
    "#Check https://cloud.google.com/python/docs/reference/aiplatform/latest/google.cloud.aiplatform.prediction.LocalModel#google_cloud_aiplatform_prediction_LocalModel\n",
    "#Refer https://huggingface.co/docs/text-generation-inference/en/reference/launcher  for serving_container_args\n",
    "#Refer https://github.com/huggingface/Google-Cloud-Containers/blob/main/containers/tgi/gpu/2.4.0/entrypoint.sh to check entry point\n",
    "#Refer https://cloud.google.com/vertex-ai/docs/predictions/custom-container-requirements#aip-variables for monitor variable"
   ]
  },
  {
   "cell_type": "code",
   "execution_count": null,
   "id": "9955472d-a148-4f25-aa54-70d544d94a04",
   "metadata": {
    "tags": []
   },
   "outputs": [],
   "source": [
    "#To run TGI\n",
    "#CONTAINER = \"us-docker.pkg.dev/deeplearning-platform-release/gcr.io/huggingface-text-generation-inference-cu124.2-4.ubuntu2204.py311\"\n",
    "CONTAINER = f\"us-central1-docker.pkg.dev/{PROJECT_ID}/custom-inference-gpu/tgi-release:latest\"\n",
    "!docker build -t {CONTAINER} .\n",
    "MODEL_NAME = \"Llama-3.1-8B-Instruct-TGI\"\n",
    "\n",
    "#must secure sufficient space\n",
    "from google.cloud.aiplatform.prediction import LocalModel\n",
    "local_model = LocalModel(serving_container_image_uri=CONTAINER,\n",
    "                         serving_container_environment_variables={\n",
    "                             \"VERTEX_CPR_MAX_WORKERS\": \"1\",\n",
    "                             \"RUST_BACKTRACE\": \"full\", #for stack trace printing,\n",
    "                             \"CUDA_MEMORY_FRACTION\": \"0.93\",\n",
    "                             #\"AIP_PREDICT_ROUTE\": \"/generate\",\n",
    "                             #\"AIP_HEALTH_ROUTE\": \"/metrics\"\n",
    "                             #\"MODEL_ID\": f\"meta-llama/{MODEL_NAME}\"\n",
    "                             #\"PORT\": \"5000\", #server runs on 5000, or 8080 by dafault\n",
    "                         },\n",
    "                         #serving_container_ports=[5000], #expose container port, system map is random\n",
    "                         serving_container_health_route=\"/metrics\",\n",
    "                         serving_container_predict_route=\"/generate\",\n",
    "                         serving_container_args=[\"--num-shard 1\"], #We can use both serving_container_environment_variables and serving_container_args\n",
    "                        )\n",
    "\n",
    "from pydantic import BaseModel, conint\n",
    "from typing import List\n",
    "class Animals(BaseModel):\n",
    "    location: str\n",
    "    activity: str\n",
    "    animals_seen: conint(ge=1, le=5)  # Constrained integer type\n",
    "    animals: List[str]\n",
    "    \n",
    "prompt = \"convert to JSON: I saw a puppy a cat and a raccoon during my bike ride in the park\"\n",
    "\n",
    "prediction_input = {\n",
    "    \"inputs\": prompt,\n",
    "    \"parameters\": {\n",
    "        \"repetition_penalty\": 1.3,\n",
    "        \"grammar\": {\n",
    "            \"type\": \"json\",\n",
    "            \"value\": Animals.model_json_schema()\n",
    "        }\n",
    "    }\n",
    "}"
   ]
  },
  {
   "cell_type": "raw",
   "id": "aad5385f-0ff8-444d-9a66-9b1f70ddc88f",
   "metadata": {
    "tags": []
   },
   "source": [
    "#To run vllm\n",
    "CONTAINER = f\"us-central1-docker.pkg.dev/{PROJECT_ID}/custom-inference-gpu/vllm-release:latest\"\n",
    "!docker image tag us-docker.pkg.dev/deeplearning-platform-release/vertex-model-garden/vllm-inference.cu121.0-5.ubuntu2204.py310:latest {CONTAINER}\n",
    "MODEL_NAME = \"Llama-3.1-8B-Instruct-VLLM\"\n",
    "\n",
    "#must secure sufficient space\n",
    "from google.cloud.aiplatform.prediction import LocalModel\n",
    "local_model = LocalModel(serving_container_image_uri=CONTAINER,\n",
    "                        serving_container_ports=[8080], #expose container port, system map is random\n",
    "                        serving_container_health_route=\"/metrics\",\n",
    "                        serving_container_predict_route=\"/v1/chat/completions\",\n",
    "                        serving_container_args=[\"python\",\n",
    "                                               \"-m\",\n",
    "                                               \"vllm.entrypoints.openai.api_server\",\n",
    "                                               \"--host=0.0.0.0\",\n",
    "                                               \"--port=8080\",\n",
    "                                               \"--gpu-memory-utilization=0.9\",\n",
    "                                               \"--max-model-len=16384\"]\n",
    "                        )\n",
    "\n",
    "from pydantic import BaseModel\n",
    "from enum import Enum\n",
    "\n",
    "class CarType(str, Enum):\n",
    "    sedan = \"sedan\"\n",
    "    suv = \"SUV\"\n",
    "    truck = \"Truck\"\n",
    "    coupe = \"Coupe\"\n",
    "\n",
    "class CarDescription(BaseModel):\n",
    "    brand: str\n",
    "    model: str\n",
    "    car_type: CarType\n",
    "\n",
    "json_schema = CarDescription.model_json_schema()\n",
    "\n",
    "prediction_input = {\n",
    "    \"model\": \"openapi\",\n",
    "    \"messages\": [\n",
    "        {\n",
    "            \"role\": \"user\",\n",
    "            \"content\": \"Generate a JSON with the brand, model and car_type of the most iconic car from the 90's\"\n",
    "        }\n",
    "    ],\n",
    "    \"guided_json\": json_schema\n",
    "}"
   ]
  },
  {
   "cell_type": "code",
   "execution_count": null,
   "id": "e48df827-d978-4b28-892f-13d5f67e278a",
   "metadata": {
    "tags": []
   },
   "outputs": [],
   "source": [
    "local_model.get_serving_container_spec()"
   ]
  },
  {
   "cell_type": "code",
   "execution_count": null,
   "id": "62ae8e93-9149-47a0-94d6-a5e68e8ccdb2",
   "metadata": {
    "tags": []
   },
   "outputs": [],
   "source": [
    "import json\n",
    "#Manual deploy and test\n",
    "local_endpoint = local_model.deploy_to_local_endpoint(\n",
    "    artifact_uri=MODEL_PATH,\n",
    "    gpu_count=-1,\n",
    "    container_ready_timeout = 600)\n",
    "local_endpoint.serve()\n",
    "local_endpoint.print_container_logs()"
   ]
  },
  {
   "cell_type": "code",
   "execution_count": null,
   "id": "4e24df91-035f-4320-9635-54a0869d25c7",
   "metadata": {
    "tags": []
   },
   "outputs": [],
   "source": [
    "#Run some code here to test monitor\n",
    "predict_response = local_endpoint.predict(\n",
    "        request=json.dumps(prediction_input),\n",
    "        headers={\"Content-Type\": \"application/json\"},\n",
    "    )\n",
    "print(predict_response.text)\n",
    "local_endpoint.print_container_logs()"
   ]
  },
  {
   "cell_type": "code",
   "execution_count": null,
   "id": "de672cc2-0813-4b93-987c-9fd0e668fc8b",
   "metadata": {
    "tags": []
   },
   "outputs": [],
   "source": [
    "local_endpoint.run_health_check().text"
   ]
  },
  {
   "cell_type": "code",
   "execution_count": null,
   "id": "ea162c58-b6d6-4f13-95f4-020728fca78b",
   "metadata": {
    "tags": []
   },
   "outputs": [],
   "source": [
    "local_endpoint.stop()\n",
    "local_endpoint.print_container_logs()"
   ]
  },
  {
   "cell_type": "raw",
   "id": "79085489-31c2-4adf-b398-ce1dce71d53a",
   "metadata": {},
   "source": [
    "!gcloud artifacts repositories create {REPOSITORY} --repository-format=docker --location={REGION}"
   ]
  },
  {
   "cell_type": "code",
   "execution_count": null,
   "id": "008b802e-b448-4070-ae3e-df45c6adbb4d",
   "metadata": {
    "tags": []
   },
   "outputs": [],
   "source": [
    "#Run if needed for serving container update\n",
    "!gcloud auth configure-docker us-central1-docker.pkg.dev --quiet\n",
    "local_model.push_image()"
   ]
  },
  {
   "cell_type": "code",
   "execution_count": null,
   "id": "3e8fa9f9-8773-423c-ac45-0ee28b70a126",
   "metadata": {
    "tags": []
   },
   "outputs": [],
   "source": [
    "from google.cloud import aiplatform\n",
    "model = aiplatform.Model.upload(\n",
    "    display_name = MODEL_NAME,\n",
    "    local_model = local_model,\n",
    "    artifact_uri = MODEL_PATH,\n",
    "    #parent_model = prev_model.resource_name,\n",
    "    #is_default_version=True,\n",
    "    #serving_container_environment_variables={\n",
    "    #    \"VERTEX_CPR_MAX_WORKERS\": \"1\",\n",
    "    #    \"PORT\": \"8080\", #server runs on 5000, or 8080 by dafault\n",
    "    #    \"RUST_BACKTRACE\": \"full\", #for stack trace printing,\n",
    "    #},\n",
    "    #serving_container_ports=[8080],\n",
    "    #serving_container_args = [\"--num-shard 1\"]\n",
    ")"
   ]
  },
  {
   "cell_type": "code",
   "execution_count": null,
   "id": "0b3d8697-d21c-473c-9420-4f635d1ba3d3",
   "metadata": {},
   "outputs": [],
   "source": [
    "#Public and dedicated endpoint\n",
    "from google.cloud import aiplatform\n",
    "endpoint = aiplatform.Endpoint.create(\n",
    "    display_name=f\"{MODEL_NAME} proxy public test endpoint\",\n",
    "    labels={\"sample-key\": \"sample-value\"},\n",
    "    #dedicated_endpoint_enabled=True,\n",
    ")\n",
    "endpoint.deploy(\n",
    "    model = model,\n",
    "    machine_type=\"g2-standard-4\",\n",
    "    accelerator_type=\"NVIDIA_L4\",\n",
    "    #machine_type=\"a2-highgpu-1g\",\n",
    "    #accelerator_type=\"NVIDIA_TESLA_A100\",\n",
    "    accelerator_count=1,\n",
    "    min_replica_count=1,\n",
    "    max_replica_count=1,\n",
    "    #service_account=SERVICE_ACCOUNT\n",
    "    #traffic_percentage=50\n",
    "    #traffic_split={'a':50, 'b':50}\n",
    ")"
   ]
  },
  {
   "cell_type": "code",
   "execution_count": null,
   "id": "7b582ea4-2b79-4c8f-ba1e-2fe5e10b98cc",
   "metadata": {
    "tags": []
   },
   "outputs": [],
   "source": [
    "#Public and dedicated endpoint predict\n",
    "from google.cloud import aiplatform\n",
    "#ENDPOINT_ID = \"0000\"\n",
    "#endpoint = aiplatform.Endpoint(ENDPOINT_ID)\n",
    "response = endpoint.raw_predict(body=json.dumps(prediction_input, indent=2).encode('utf-8'), headers={'Content-Type':'application/json'})\n",
    "response.data"
   ]
  },
  {
   "cell_type": "code",
   "execution_count": null,
   "id": "96a60ca0-a166-4ef4-9d3f-f289b1c816f0",
   "metadata": {
    "tags": []
   },
   "outputs": [],
   "source": [
    "#Private endpoint\n",
    "#Refer https://cloud.google.com/vertex-ai/docs/predictions/using-private-endpoints\n",
    "from google.cloud import aiplatform\n",
    "endpoint = aiplatform.PrivateEndpoint.create(\n",
    "    display_name=f\"{MODEL_NAME} proxy private test endpoint\",\n",
    "    network=f\"projects/{PROJECT_NUMBER}/global/networks/{VPC_NETWORK}\",\n",
    "    labels={\"sample-key\": \"sample-value\"},\n",
    ")\n",
    "#C3, L4, TPU not allowed for private endpoint\n",
    "#Refer https://cloud.google.com/vertex-ai/docs/training/configure-compute\n",
    "endpoint.deploy(\n",
    "    model = model,\n",
    "    machine_type=\"a2-highgpu-1g\",\n",
    "    accelerator_type=\"NVIDIA_TESLA_A100\",\n",
    "    accelerator_count=1,\n",
    "    min_replica_count=1,\n",
    "    max_replica_count=1,\n",
    "    #service_account=SERVICE_ACCOUNT\n",
    "    #traffic_percentage=50\n",
    "    #traffic_split={'a':50, 'b':50}\n",
    ")"
   ]
  },
  {
   "cell_type": "code",
   "execution_count": null,
   "id": "888d356e-a5cd-4530-9da6-1a7a66b45e6e",
   "metadata": {
    "tags": []
   },
   "outputs": [],
   "source": [
    "#Private endpoint with raw predict, TGI does not use instances= so use raw_predict\n",
    "from google.cloud import aiplatform\n",
    "#ENDPOINT_ID = \"0000\"\n",
    "#endpoint = aiplatform.PrivateEndpoint(ENDPOINT_ID)\n",
    "response = endpoint.raw_predict(body=json.dumps(prediction_input, indent=2).encode('utf-8'), headers={'Content-Type':'application/json'})\n",
    "response.data"
   ]
  },
  {
   "cell_type": "code",
   "execution_count": null,
   "id": "a86620f6-e5ab-4eb7-81f7-5283b0f2c29b",
   "metadata": {
    "tags": []
   },
   "outputs": [],
   "source": [
    "#Private endpoint health\n",
    "import google.auth\n",
    "import requests\n",
    "creds, project = google.auth.default()\n",
    "auth_req = google.auth.transport.requests.Request()\n",
    "creds.refresh(auth_req)\n",
    "\n",
    "headers = {'Authorization': f'Bearer {creds.token}'}\n",
    "response = requests.get(endpoint.health_http_uri, headers=headers)\n",
    "print(response.text)"
   ]
  }
 ],
 "metadata": {
  "environment": {
   "kernel": "python3",
   "name": "common-cu118.m124",
   "type": "gcloud",
   "uri": "us-docker.pkg.dev/deeplearning-platform-release/gcr.io/base-cu118:m124"
  },
  "kernelspec": {
   "display_name": "Python 3 (Local)",
   "language": "python",
   "name": "python3"
  },
  "language_info": {
   "codemirror_mode": {
    "name": "ipython",
    "version": 3
   },
   "file_extension": ".py",
   "mimetype": "text/x-python",
   "name": "python",
   "nbconvert_exporter": "python",
   "pygments_lexer": "ipython3",
   "version": "3.10.14"
  }
 },
 "nbformat": 4,
 "nbformat_minor": 5
}
