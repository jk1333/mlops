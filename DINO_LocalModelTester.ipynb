{
 "cells": [
  {
   "cell_type": "code",
   "execution_count": null,
   "id": "749738de-71aa-473e-8f5d-3ef76b65132d",
   "metadata": {
    "tags": []
   },
   "outputs": [],
   "source": [
    "from huggingface_hub import snapshot_download\n",
    "import os\n",
    "hf_token = \"=====================================\"\n",
    "hf_repo_id = \"IDEA-Research/grounding-dino-base\"\n",
    "project_name = \"======\"\n",
    "BASE_ARTIFACT_URI = \"gs://=======/hf\"\n",
    "os.system(f\"rm -rf /tmp/model\")\n",
    "print(\"Start downloading\")\n",
    "snapshot_download(repo_id=hf_repo_id, token=hf_token, local_dir=f\"/tmp/model\")\n",
    "print(\"Uploading\")\n",
    "os.system(f\"gcloud storage cp /tmp/model/*.* {BASE_ARTIFACT_URI}/{hf_repo_id}\")\n",
    "print(\"Done\")"
   ]
  },
  {
   "cell_type": "code",
   "execution_count": null,
   "id": "fb414bb2-bc7b-4363-8638-7bb54f354d29",
   "metadata": {
    "tags": []
   },
   "outputs": [],
   "source": [
    "import os\n",
    "REGION = \"us-central1\"\n",
    "BASE_CONTAINER = f\"{REGION}-docker.pkg.dev/{project_name}/base/transformer:v1\"\n",
    "PACKAGE_PATH = \"package\"\n",
    "dockerfile = \"\"\"\n",
    "FROM nvidia/cuda:12.4.1-runtime-ubuntu22.04\n",
    "RUN apt-get -y update\n",
    "RUN apt-get -y install git\n",
    "RUN apt-get -y install python3 python3-pip\n",
    "RUN ln -s /usr/bin/python3 /usr/bin/python\n",
    "RUN pip install torch==2.2.2\n",
    "RUN pip install accelerate==0.29.2\n",
    "RUN pip install transformers==4.39.3\n",
    "ENV VERTEX_CPR_MAX_WORKERS 1\n",
    "\"\"\"\n",
    "with open(f\"Dockerfile\", \"w\") as image_file:\n",
    "    image_file.write(dockerfile)\n",
    "image_file.close()\n",
    "\n",
    "base_container_build = f'''\n",
    "gcloud builds submit --region={REGION} --tag={BASE_CONTAINER} --machine-type=E2_HIGHCPU_32\n",
    "'''\n",
    "os.system(base_container_build)"
   ]
  },
  {
   "cell_type": "code",
   "execution_count": null,
   "id": "6e27da7a-296a-497d-8bb7-f682e9ba1d66",
   "metadata": {
    "tags": []
   },
   "outputs": [],
   "source": [
    "!gcloud auth configure-docker us-central1-docker.pkg.dev --quiet"
   ]
  },
  {
   "cell_type": "code",
   "execution_count": null,
   "id": "c42fbcd1-2be0-4dd9-972d-d1700fb1affb",
   "metadata": {
    "tags": []
   },
   "outputs": [],
   "source": [
    "image = Image.open(\"car.png\").convert(\"RGB\")\n",
    "image.size[::-1]"
   ]
  },
  {
   "cell_type": "code",
   "execution_count": null,
   "id": "72cbfbe0-aaed-46cd-a928-733059f61b21",
   "metadata": {
    "tags": []
   },
   "outputs": [],
   "source": [
    "#setting below turns all container build and localmodel logs\n",
    "#import logging\n",
    "#logging.basicConfig(level=logging.INFO)\n",
    "from google.cloud.aiplatform.prediction import LocalModel\n",
    "#add custom predictor\n",
    "vai_serving_container_uri = f\"{REGION}-docker.pkg.dev/{project_name}/custom-inference-gpu/vai-transformer-grounding-dino\"\n",
    "#must secure sufficient space\n",
    "from package.VAIGroundingDINO import VAIGroundingDINO\n",
    "local_model = LocalModel.build_cpr_model(\n",
    "    src_dir=PACKAGE_PATH,\n",
    "    output_image_uri=vai_serving_container_uri,\n",
    "    predictor=VAIGroundingDINO,\n",
    "    requirements_path=f\"{PACKAGE_PATH}/requirements.txt\",\n",
    "    #extra_packages=[\"deploy_package/custom_package.tar.gz\"]\n",
    "    base_image=f\"--platform=linux/amd64 {BASE_CONTAINER} AS build\",\n",
    "    no_cache = False\n",
    ")"
   ]
  },
  {
   "cell_type": "raw",
   "id": "25eaa044-2143-43c1-aac3-d5950b0a55a4",
   "metadata": {},
   "source": [
    "!docker run --gpus all --env AIP_HTTP_PORT=8080 --env AIP_STORAGE_URI=\"gs://jk-model-repo/hf/facebook/sam-vit-large\" us-central1-docker.pkg.dev/sandbox-373102/custom-inference-gpu/vai-transformer-mask-generator -it /bin/bash"
   ]
  },
  {
   "cell_type": "code",
   "execution_count": null,
   "id": "820d9cef-f1af-428f-98e8-21d11936ab2d",
   "metadata": {
    "tags": []
   },
   "outputs": [],
   "source": [
    "import json\n",
    "import logging\n",
    "logging.basicConfig(level=logging.INFO)\n",
    "test_artifact_uri = f\"{BASE_ARTIFACT_URI}/{hf_repo_id}\"\n",
    "with local_model.deploy_to_local_endpoint(\n",
    "        artifact_uri=test_artifact_uri,\n",
    "        gpu_count=-1\n",
    "    ) as local_endpoint:\n",
    "    health_check_response = local_endpoint.run_health_check()\n",
    "    request = {\n",
    "        \"instances\" : [\n",
    "            {\n",
    "            \"image_uri\": \"car.png\",\n",
    "            \"prompt\": \"a car\",\n",
    "            \"box_threshold\": 0.4,\n",
    "            \"text_threshold\": 0.3\n",
    "            }\n",
    "        ]\n",
    "    }\n",
    "    for i in range(1):\n",
    "        predict_response = local_endpoint.predict(\n",
    "            request=json.dumps(request),\n",
    "            headers={\"Content-Type\": \"application/json\"},\n",
    "        )\n",
    "    local_endpoint.print_container_logs(show_all=True)\n",
    "    print(health_check_response, health_check_response.content)\n",
    "    print(predict_response)"
   ]
  },
  {
   "cell_type": "code",
   "execution_count": null,
   "id": "ee0a352f-58f3-4582-aa60-fc0c882bd906",
   "metadata": {
    "tags": []
   },
   "outputs": [],
   "source": [
    "masks = predict_response.json()['predictions'][0]['masks']\n",
    "width = 640\n",
    "height = 480\n",
    "width = 2646\n",
    "height = 1764"
   ]
  },
  {
   "cell_type": "code",
   "execution_count": null,
   "id": "6b387163-8d41-4ff6-ab99-2fd077ac3e68",
   "metadata": {
    "tags": []
   },
   "outputs": [],
   "source": [
    "predict_response.json()"
   ]
  },
  {
   "cell_type": "code",
   "execution_count": null,
   "id": "2fa5d739-4287-4380-a5a7-2e27155eaf98",
   "metadata": {
    "tags": []
   },
   "outputs": [],
   "source": [
    "import matplotlib.pyplot as plt\n",
    "#image = torch.zeros(480, 640, 3, dtype=torch.uint8) #black color\n",
    "#image[:, :, :] = 255 #white color\n",
    "import numpy as np\n",
    "base = np.zeros((height, width, 3), np.uint8) #black color\n",
    "base[:] = (255, 255, 255) #white color\n",
    "for mask in masks:\n",
    "    #image = np.array(mask).reshape(height, width, 1)\n",
    "    #np.copyto(base, image, where=(image != 0))\n",
    "    base += np.array(mask).reshape(height, width, 1)\n",
    "base = 255 - base #inverse color\n",
    "plt.imshow(base)"
   ]
  },
  {
   "cell_type": "code",
   "execution_count": null,
   "id": "5116366f-c22f-447c-af5f-206aed2bbf82",
   "metadata": {},
   "outputs": [],
   "source": [
    "import matplotlib.pyplot as plt\n",
    "import numpy as np    \n",
    "\n",
    "output = np.array(raw_image) / 255\n",
    "for mask in masks:\n",
    "    color = np.concatenate([np.random.random(3), np.array([0.6])], axis=0)\n",
    "    image = (np.array(mask).reshape(height, width, 1) * color.reshape(1, 1, -1))[:, :, :3]\n",
    "    np.copyto(output, image, where=(image != 0))\n",
    "plt.imshow(output)"
   ]
  },
  {
   "cell_type": "code",
   "execution_count": null,
   "id": "2ff9095c-c6ac-4f57-8e72-323497f79fbd",
   "metadata": {
    "tags": []
   },
   "outputs": [],
   "source": [
    "from PIL import Image\n",
    "Image.fromarray((output * 255).astype(np.uint8)).save('output.png')"
   ]
  },
  {
   "cell_type": "code",
   "execution_count": null,
   "id": "6b6d127a-83ee-4cdf-948a-5fea1d535f9b",
   "metadata": {
    "tags": []
   },
   "outputs": [],
   "source": [
    "local_model.push_image()"
   ]
  },
  {
   "cell_type": "code",
   "execution_count": null,
   "id": "7d918272-6d24-4614-9643-f7383c8c297c",
   "metadata": {
    "tags": []
   },
   "outputs": [],
   "source": [
    "from google.cloud import aiplatform\n",
    "aiplatform.Model.upload(\n",
    "    display_name = \"ground_dino_bbox\",\n",
    "    local_model = local_model,\n",
    "    artifact_uri = test_artifact_uri,\n",
    "    #parent_model = prev_model.resource_name,\n",
    "    #is_default_version=True,\n",
    "    serving_container_environment_variables={\n",
    "        # Optional env var so that `uvicorn` only runs the model in 1 worker\n",
    "        \"VERTEX_CPR_MAX_WORKERS\": 1,\n",
    "    },\n",
    ")"
   ]
  },
  {
   "cell_type": "code",
   "execution_count": null,
   "id": "9f0b4e8c-fce2-4cbf-b9f4-9efd336f5baf",
   "metadata": {},
   "outputs": [],
   "source": [
    "import matplotlib.pyplot as plt\n",
    "from PIL import Image\n",
    "import numpy as np\n",
    "\n",
    "def show_mask(mask, ax, random_color=False):\n",
    "    if random_color:\n",
    "        color = np.concatenate([np.random.random(3), np.array([0.6])], axis=0)\n",
    "    else:\n",
    "        color = np.array([30 / 255, 144 / 255, 255 / 255, 0.6])\n",
    "    h, w = mask.shape[-2:]\n",
    "    mask_image = mask.reshape(h, w, 1) * color.reshape(1, 1, -1)\n",
    "    ax.imshow(mask_image)\n",
    "\n",
    "plt.imshow(np.array(image))\n",
    "ax = plt.gca()\n",
    "for mask in masks[0]:\n",
    "    show_mask(mask, ax=ax, random_color=True)\n",
    "plt.axis(\"off\")\n",
    "plt.show()"
   ]
  },
  {
   "cell_type": "code",
   "execution_count": null,
   "id": "f7f85dad-086a-4c96-8201-6deec861aae8",
   "metadata": {
    "tags": []
   },
   "outputs": [],
   "source": [
    "from PIL import Image\n",
    "import numpy as np\n",
    "\n",
    "def get_mask(mask):\n",
    "    color = np.array([0, 0, 0, 0.9])\n",
    "    h, w = mask.shape[-2:]\n",
    "    return mask.reshape(h, w, 1) * color.reshape(1, 1, -1)\n",
    "\n",
    "generated_masks = []\n",
    "for mask in masks[0]:\n",
    "    generated_masks.append(get_mask(mask))"
   ]
  }
 ],
 "metadata": {
  "environment": {
   "kernel": "python3",
   "name": "common-cpu.m119",
   "type": "gcloud",
   "uri": "us-docker.pkg.dev/deeplearning-platform-release/gcr.io/base-cpu:m119"
  },
  "kernelspec": {
   "display_name": "Python 3",
   "language": "python",
   "name": "python3"
  },
  "language_info": {
   "codemirror_mode": {
    "name": "ipython",
    "version": 3
   },
   "file_extension": ".py",
   "mimetype": "text/x-python",
   "name": "python",
   "nbconvert_exporter": "python",
   "pygments_lexer": "ipython3",
   "version": "3.10.14"
  }
 },
 "nbformat": 4,
 "nbformat_minor": 5
}
